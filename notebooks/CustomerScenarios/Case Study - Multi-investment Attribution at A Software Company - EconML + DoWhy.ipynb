{
 "cells": [
  {
   "cell_type": "markdown",
   "metadata": {},
   "source": [
    "<img src=\"https://www.microsoft.com/en-us/research/uploads/prod/2020/05/Attribution.png\" width=\"400\">\n",
    "\n",
    "<h1 align=\"left\">Multi-investment Attribution: Distinguish the Effects of Multiple Outreach Efforts</h1>\n",
    "\n",
    "A startup that sells software would like to know whether its multiple outreach efforts were successful in attracting new customers or boosting consumption among existing customers. They would also like to distinguish the effects of several incentives on different kinds of customers. In other words, they would like to learn the **heterogeneous treatment effect** of each investment on customers' software usage. \n",
    "\n",
    "In an ideal world, the startup would run several randomized experiments where each customer would receive a random assortment of investments. However, this can be logistically prohibitive or strategically unsound: the startup might not have the resources to design such experiments or they might not want to risk losing out on big opportunities due to lack of incentives.\n",
    "\n",
    "In this customer scenario walkthrough, we show how tools from the [EconML](https://aka.ms/econml) and [DoWhy](https://github.com/microsoft/dowhy) libraries can use historical investment data to learn the effects of multiple investments."
   ]
  },
  {
   "cell_type": "markdown",
   "metadata": {},
   "source": [
    "### Summary\n",
    "\n",
    "1. [Background](#Background)\n",
    "2. [Data](#Data)\n",
    "3. [Create Causal Model and Identify Causal Effect with DoWhy](#Create-Causal-Model-and-Identify-Causal-Effect-with-DoWhy)\n",
    "4. [Get Causal Effects with EconML](#Get-Causal-Effects-with-EconML)\n",
    "5. [Understand Treatment Effects with EconML](#Understand-Treatment-Effects-with-EconML)\n",
    "6. [Make Policy Decisions with EconML](#Make-Policy-Decisions-with-EconML)\n",
    "7. [Test Estimate Robustness with DoWhy](#Test-Estimate-Robustness-with-DoWhy)\n",
    "    1. [Add Random Common Cause](#Add-Random-Common-Cause)\n",
    "    2. [Add Unobserved Common Cause](#Add-Unobserved-Common-Cause)\n",
    "    3. [Replace Treatment with a Random (Placebo) Variable](#Replace-Treatment-with-a-Random-(Placebo)-Variable)\n",
    "    4. [Remove a Random Subset of the Data](#Remove-a-Random-Subset-of-the-Data)\n",
    "8. [Conclusions](#Conclusions)"
   ]
  },
  {
   "cell_type": "markdown",
   "metadata": {},
   "source": [
    "# Background\n",
    "\n",
    "<img src=\"https://get.pxhere.com/photo/update-software-upgrade-laptop-computer-install-program-screen-system-repair-data-development-electronic-load-pc-process-progress-support-technical-load-1565823.jpg\" width=\"400\">\n",
    "\n",
    "In this scenario, a startup that sells software provides two types of incentives to its customers: technical support and discounts. A customer might be given one, both or none of these incentives. \n",
    "\n",
    "The startup has historical data on these two investments for 2,000 customers, as well as how much revenue these customers generated in the year after the investments were made. They would like to use this data to learn the optimal incentive policy for each existing or new customer in order to maximize the return on investment (ROI).\n",
    "\n",
    "The startup faces two challenges: 1) the dataset is biased because historically the larger customers received the most incentives and 2) the observed outcome combines effects from two different investments. Thus, they need a causal model that can accommodate multiple concurrent interventions. \n",
    "\n",
    "**Solution:** \n",
    "The EconML and DoWhy libraries complement each other in providing a complete solution. On one hand, the DoWhy library can help [build a causal model, identify the causal effect](#Create-Causal-Model-and-Identify-Causal-Effect-with-DoWhy) and [test causal assumptions](#Test-Estimate-Robustness-with-DoWhy). \n",
    "\n",
    "On the other hand, EconML's `Doubly Robust Learner` estimator can [jointly estimates the effects of multiple discrete treatments](#Get-Causal-Effects-with-EconML). The model uses flexible functions of observed customer features to filter out spurious correlations in existing data and deliver the causal effect of each intervention on revenue.\n",
    "\n",
    "\n",
    "Furthermore, EconML provides users tools to [understand causal effects](#Understand-Treatment-Effects-with-EconML) and [make causal policy decisions](#Make-Policy-Decisions-with-EconML)."
   ]
  },
  {
   "cell_type": "code",
   "execution_count": 1,
   "metadata": {},
   "outputs": [],
   "source": [
    "# Some imports to get us started\n",
    "# Utilities\n",
    "import os\n",
    "import urllib.request\n",
    "import numpy as np\n",
    "import pandas as pd\n",
    "from networkx.drawing.nx_pydot import to_pydot\n",
    "from IPython.display import Image, display\n",
    "\n",
    "# Generic ML imports\n",
    "from xgboost import XGBRegressor, XGBClassifier\n",
    "\n",
    "# EconML imports\n",
    "from econml.drlearner import LinearDRLearner\n",
    "\n",
    "# DoWhy imports \n",
    "import dowhy\n",
    "from dowhy import CausalModel\n",
    "\n",
    "import matplotlib.pyplot as plt\n",
    "import seaborn as sns\n",
    "\n",
    "%matplotlib inline"
   ]
  },
  {
   "cell_type": "markdown",
   "metadata": {},
   "source": [
    "# Data\n",
    "\n",
    "The data* contains ~2,000 customers and is comprised of:\n",
    "\n",
    "* Customer features: details about the industry, size, revenue, and technology profile of each customer.\n",
    "* Interventions: information about which incentive was given to a customer.\n",
    "* Outcome: the amount of product the customer bought in the year after the incentives were given.\n",
    "\n",
    "Feature Name | Type | Details \n",
    ":--- |:--- |:--- \n",
    "**Global Flag** | W | whether the customer has global offices\n",
    "**Major Flag** | W | whether the customer is a large consumer in their industry (as opposed to SMC - Small Medium Corporation - or SMB - Small Medium Business)\n",
    "**SMC Flag** | W | whether the customer is a Small Medium Corporation (SMC, as opposed to major and SMB)\n",
    "**Commercial Flag** | W | whether the customer's business is commercial (as opposed to public secor)\n",
    "**IT Spend** | W | \\\\$ spent on IT-related purchases \n",
    "**Employee Count** | W | number of employees\n",
    "**PC Count** | W | number of PCs used by the customer\n",
    "**Size** | X | customer's size given by their yearly total revenue \n",
    "**Tech Support** | T | whether the customer received tech support (binary)\n",
    "**Discount** | T | whether the customer was given a discount (binary)\n",
    "**Revenue** | Y | \\\\$ Revenue from customer given by the amount of software purchased\n",
    "\n",
    "**To protect the privacy of the startup's customers, the data used in this scenario is synthetically generated and the feature distributions don't correspond to real distributions. However, the feature names have preserved their names and meaning.*"
   ]
  },
  {
   "cell_type": "code",
   "execution_count": 2,
   "metadata": {},
   "outputs": [],
   "source": [
    "# Import the sample multi-attribution data\n",
    "file_url = \"https://msalicedatapublic.blob.core.windows.net/datasets/ROI/multi_attribution_sample.csv\"\n",
    "multi_data = pd.read_csv(file_url)"
   ]
  },
  {
   "cell_type": "code",
   "execution_count": 3,
   "metadata": {},
   "outputs": [
    {
     "data": {
      "text/html": [
       "<div>\n",
       "<style scoped>\n",
       "    .dataframe tbody tr th:only-of-type {\n",
       "        vertical-align: middle;\n",
       "    }\n",
       "\n",
       "    .dataframe tbody tr th {\n",
       "        vertical-align: top;\n",
       "    }\n",
       "\n",
       "    .dataframe thead th {\n",
       "        text-align: right;\n",
       "    }\n",
       "</style>\n",
       "<table border=\"1\" class=\"dataframe\">\n",
       "  <thead>\n",
       "    <tr style=\"text-align: right;\">\n",
       "      <th></th>\n",
       "      <th>Global Flag</th>\n",
       "      <th>Major Flag</th>\n",
       "      <th>SMC Flag</th>\n",
       "      <th>Commercial Flag</th>\n",
       "      <th>IT Spend</th>\n",
       "      <th>Employee Count</th>\n",
       "      <th>PC Count</th>\n",
       "      <th>Size</th>\n",
       "      <th>Tech Support</th>\n",
       "      <th>Discount</th>\n",
       "      <th>Revenue</th>\n",
       "    </tr>\n",
       "  </thead>\n",
       "  <tbody>\n",
       "    <tr>\n",
       "      <th>0</th>\n",
       "      <td>1</td>\n",
       "      <td>0</td>\n",
       "      <td>1</td>\n",
       "      <td>0</td>\n",
       "      <td>45537</td>\n",
       "      <td>26</td>\n",
       "      <td>26</td>\n",
       "      <td>152205</td>\n",
       "      <td>0</td>\n",
       "      <td>1</td>\n",
       "      <td>17688.36300</td>\n",
       "    </tr>\n",
       "    <tr>\n",
       "      <th>1</th>\n",
       "      <td>0</td>\n",
       "      <td>0</td>\n",
       "      <td>1</td>\n",
       "      <td>1</td>\n",
       "      <td>20842</td>\n",
       "      <td>107</td>\n",
       "      <td>70</td>\n",
       "      <td>159038</td>\n",
       "      <td>0</td>\n",
       "      <td>1</td>\n",
       "      <td>14981.43559</td>\n",
       "    </tr>\n",
       "    <tr>\n",
       "      <th>2</th>\n",
       "      <td>0</td>\n",
       "      <td>0</td>\n",
       "      <td>0</td>\n",
       "      <td>1</td>\n",
       "      <td>82171</td>\n",
       "      <td>10</td>\n",
       "      <td>7</td>\n",
       "      <td>264935</td>\n",
       "      <td>1</td>\n",
       "      <td>1</td>\n",
       "      <td>32917.13894</td>\n",
       "    </tr>\n",
       "    <tr>\n",
       "      <th>3</th>\n",
       "      <td>0</td>\n",
       "      <td>0</td>\n",
       "      <td>0</td>\n",
       "      <td>0</td>\n",
       "      <td>30288</td>\n",
       "      <td>40</td>\n",
       "      <td>39</td>\n",
       "      <td>77522</td>\n",
       "      <td>1</td>\n",
       "      <td>1</td>\n",
       "      <td>14773.76855</td>\n",
       "    </tr>\n",
       "    <tr>\n",
       "      <th>4</th>\n",
       "      <td>0</td>\n",
       "      <td>0</td>\n",
       "      <td>1</td>\n",
       "      <td>0</td>\n",
       "      <td>25930</td>\n",
       "      <td>37</td>\n",
       "      <td>43</td>\n",
       "      <td>91446</td>\n",
       "      <td>1</td>\n",
       "      <td>1</td>\n",
       "      <td>17098.69823</td>\n",
       "    </tr>\n",
       "  </tbody>\n",
       "</table>\n",
       "</div>"
      ],
      "text/plain": [
       "   Global Flag  Major Flag  SMC Flag  Commercial Flag  IT Spend  \\\n",
       "0            1           0         1                0     45537   \n",
       "1            0           0         1                1     20842   \n",
       "2            0           0         0                1     82171   \n",
       "3            0           0         0                0     30288   \n",
       "4            0           0         1                0     25930   \n",
       "\n",
       "   Employee Count  PC Count    Size  Tech Support  Discount      Revenue  \n",
       "0              26        26  152205             0         1  17688.36300  \n",
       "1             107        70  159038             0         1  14981.43559  \n",
       "2              10         7  264935             1         1  32917.13894  \n",
       "3              40        39   77522             1         1  14773.76855  \n",
       "4              37        43   91446             1         1  17098.69823  "
      ]
     },
     "execution_count": 3,
     "metadata": {},
     "output_type": "execute_result"
    }
   ],
   "source": [
    "# Data sample\n",
    "multi_data.head()"
   ]
  },
  {
   "cell_type": "code",
   "execution_count": 4,
   "metadata": {},
   "outputs": [],
   "source": [
    "# Define estimator inputs\n",
    "T_bin = multi_data[\n",
    "    [\"Tech Support\", \"Discount\"]\n",
    "]  # multiple interventions, or treatments\n",
    "Y = multi_data[\"Revenue\"]  # amount of product purchased, or outcome\n",
    "X = multi_data[[\"Size\"]]  # heterogeneity feature\n",
    "W = multi_data.drop(\n",
    "    columns=[\"Tech Support\", \"Discount\", \"Revenue\", \"Size\"]\n",
    ")  # controls"
   ]
  },
  {
   "cell_type": "markdown",
   "metadata": {},
   "source": [
    "We investigate below whether the number of investments given is correlated with the size of the customer. We note that the average customer size is larger for more incentives given. "
   ]
  },
  {
   "cell_type": "code",
   "execution_count": 5,
   "metadata": {},
   "outputs": [
    {
     "data": {
      "text/html": [
       "<div>\n",
       "<style scoped>\n",
       "    .dataframe tbody tr th:only-of-type {\n",
       "        vertical-align: middle;\n",
       "    }\n",
       "\n",
       "    .dataframe tbody tr th {\n",
       "        vertical-align: top;\n",
       "    }\n",
       "\n",
       "    .dataframe thead th {\n",
       "        text-align: right;\n",
       "    }\n",
       "</style>\n",
       "<table border=\"1\" class=\"dataframe\">\n",
       "  <thead>\n",
       "    <tr style=\"text-align: right;\">\n",
       "      <th></th>\n",
       "      <th>Tech Support</th>\n",
       "      <th>Discount</th>\n",
       "      <th>Size</th>\n",
       "    </tr>\n",
       "  </thead>\n",
       "  <tbody>\n",
       "    <tr>\n",
       "      <th>0</th>\n",
       "      <td>0</td>\n",
       "      <td>0</td>\n",
       "      <td>70943</td>\n",
       "    </tr>\n",
       "    <tr>\n",
       "      <th>1</th>\n",
       "      <td>0</td>\n",
       "      <td>1</td>\n",
       "      <td>96466</td>\n",
       "    </tr>\n",
       "    <tr>\n",
       "      <th>2</th>\n",
       "      <td>1</td>\n",
       "      <td>0</td>\n",
       "      <td>108978</td>\n",
       "    </tr>\n",
       "    <tr>\n",
       "      <th>3</th>\n",
       "      <td>1</td>\n",
       "      <td>1</td>\n",
       "      <td>171466</td>\n",
       "    </tr>\n",
       "  </tbody>\n",
       "</table>\n",
       "</div>"
      ],
      "text/plain": [
       "   Tech Support  Discount    Size\n",
       "0             0         0   70943\n",
       "1             0         1   96466\n",
       "2             1         0  108978\n",
       "3             1         1  171466"
      ]
     },
     "execution_count": 5,
     "metadata": {},
     "output_type": "execute_result"
    }
   ],
   "source": [
    "# Average customer size per incentive combination\n",
    "multi_data[[\"Size\", \"Tech Support\", \"Discount\"]].groupby(\n",
    "    by=[\"Tech Support\", \"Discount\"], as_index=False\n",
    ").mean().astype(int)"
   ]
  },
  {
   "cell_type": "markdown",
   "metadata": {},
   "source": [
    "The data was generated using the following underlying treatment effect function:\n",
    "\n",
    "$$\n",
    "\\text{treatment_effect(Size)} = (5,000 + 2\\% \\cdot \\text{Size}) \\cdot I_\\text{Tech Support} + (5\\% \\cdot \\text{Size}) \\cdot I_\\text{Discount}\n",
    "$$\n",
    "\n",
    "Therefore, the treatment effect depends on the customer's size as follows: tech support provides an consumption boost of \\$5,000 + 2\\% Size and a discount provides an consumption boost of 5\\% Size.**This is the relationship we seek to learn from the data.**"
   ]
  },
  {
   "cell_type": "code",
   "execution_count": 6,
   "metadata": {},
   "outputs": [],
   "source": [
    "# Define underlying treatment effect function\n",
    "TE_fn = lambda X: np.hstack([5000 + 2 / 100 * X, 5 / 100 * X])\n",
    "true_TE = TE_fn(X)\n",
    "\n",
    "# Define true coefficients for the three treatments\n",
    "# The third coefficient is just the sum of the first two since we assume an additive effect\n",
    "true_coefs = [2 / 100, 5 / 100, 7 / 100]\n",
    "true_intercepts = [5000, 0, 5000]\n",
    "treatment_names = [\"Tech Support\", \"Discount\", \"Tech Support & Discount\"]"
   ]
  },
  {
   "cell_type": "markdown",
   "metadata": {},
   "source": [
    "# Create Causal Model and Identify Causal Effect with DoWhy\n",
    "\n",
    "We define the causal assumptions of the multi-intervention setting with DoWhy. For example, we can include features we believe influence both the treatments* and the outcome (`common_causes`) and features we think will influence the heterogeneity of the effect (`effect_modifiers`). With these assumptions defined, DoWhy can identify the causal effect for us."
   ]
  },
  {
   "cell_type": "markdown",
   "metadata": {},
   "source": [
    "*The `DoWhy` and `EconML` estimators require multiple binary treatments to be given as a list of discrete treatments $T$ that correspond to different types of interventions. Thus, we first map the binary interventions tech support and discount into one categorical variable:*\n",
    "\n",
    "Tech support| Discount| Treatment encoding| Details\n",
    ":--- |:--- |:--- |:---\n",
    "0 | 0 | 0 | no incentive\n",
    "1 | 0 | 1 | tech support only\n",
    "0 | 1 | 2 | discount only\n",
    "1 | 1 | 3 | both incentives"
   ]
  },
  {
   "cell_type": "code",
   "execution_count": 7,
   "metadata": {},
   "outputs": [],
   "source": [
    "# Transform T to one-dimensional array with consecutive integer encoding\n",
    "def treat_map(t):\n",
    "    return np.dot(t, 2 ** np.arange(t.shape[0]))"
   ]
  },
  {
   "cell_type": "code",
   "execution_count": 8,
   "metadata": {},
   "outputs": [],
   "source": [
    "T = np.apply_along_axis(treat_map, 1, T_bin).astype(int)\n",
    "multi_data[\"discrete_T\"] = T"
   ]
  },
  {
   "cell_type": "code",
   "execution_count": 9,
   "metadata": {},
   "outputs": [
    {
     "name": "stderr",
     "output_type": "stream",
     "text": [
      "WARNING:dowhy.causal_model:Causal Graph not provided. DoWhy will construct a graph based on data inputs.\n",
      "INFO:dowhy.causal_graph:If this is observed data (not from a randomized experiment), there might always be missing confounders. Adding a node named \"Unobserved Confounders\" to reflect this.\n",
      "INFO:dowhy.causal_model:Model to find the causal effect of treatment ['discrete_T'] on outcome ['Revenue']\n"
     ]
    }
   ],
   "source": [
    "model = CausalModel(\n",
    "    data=multi_data, \n",
    "    treatment='discrete_T', \n",
    "    outcome='Revenue', \n",
    "    common_causes=W.columns.to_list(),\n",
    "    effect_modifiers=X.columns.to_list()\n",
    ")"
   ]
  },
  {
   "cell_type": "code",
   "execution_count": 10,
   "metadata": {},
   "outputs": [
    {
     "data": {
      "image/png": "[encoded data removed]",
      "text/plain": [
       "<IPython.core.display.Image object>"
      ]
     },
     "metadata": {},
     "output_type": "display_data"
    }
   ],
   "source": [
    "# Visualize causal graph\n",
    "try:\n",
    "    # Try pretty printing the graph. Requires pydot and pygraphviz\n",
    "    display(\n",
    "        Image(to_pydot(model._graph._graph).create_png())\n",
    "    )\n",
    "except:\n",
    "    # Fall back on default graph view\n",
    "    model.view_model() "
   ]
  },
  {
   "cell_type": "code",
   "execution_count": 11,
   "metadata": {},
   "outputs": [
    {
     "name": "stderr",
     "output_type": "stream",
     "text": [
      "INFO:dowhy.causal_identifier:Common causes of treatment and outcome:['Employee Count', 'IT Spend', 'Major Flag', 'U', 'SMC Flag', 'PC Count', 'Commercial Flag', 'Global Flag']\n",
      "WARNING:dowhy.causal_identifier:If this is observed data (not from a randomized experiment), there might always be missing confounders. Causal effect cannot be identified perfectly.\n",
      "INFO:dowhy.causal_identifier:Continuing by ignoring these unobserved confounders because proceed_when_unidentifiable flag is True.\n",
      "INFO:dowhy.causal_identifier:Instrumental variables for treatment and outcome:[]\n"
     ]
    },
    {
     "name": "stdout",
     "output_type": "stream",
     "text": [
      "Estimand type: nonparametric-ate\n",
      "### Estimand : 1\n",
      "Estimand name: backdoor\n",
      "Estimand expression:\n",
      "      d                                                                       \n",
      "─────────────(Expectation(Revenue|Employee Count,IT Spend,Major Flag,SMC Flag,\n",
      "d[discrete_T]                                                                 \n",
      "\n",
      "                                      \n",
      "PC Count,Commercial Flag,Global Flag))\n",
      "                                      \n",
      "Estimand assumption 1, Unconfoundedness: If U→{discrete_T} and U→Revenue then P(Revenue|discrete_T,Employee Count,IT Spend,Major Flag,SMC Flag,PC Count,Commercial Flag,Global Flag,U) = P(Revenue|discrete_T,Employee Count,IT Spend,Major Flag,SMC Flag,PC Count,Commercial Flag,Global Flag)\n",
      "### Estimand : 2\n",
      "Estimand name: iv\n",
      "No such variable found!\n",
      "\n"
     ]
    }
   ],
   "source": [
    "identified_estimand = model.identify_effect(proceed_when_unidentifiable=True)\n",
    "print(identified_estimand)"
   ]
  },
  {
   "cell_type": "markdown",
   "metadata": {},
   "source": [
    "# Get Causal Effects with EconML"
   ]
  },
  {
   "cell_type": "markdown",
   "metadata": {},
   "source": [
    "To get causal effects, we use EconML's `LinearDRLearner`* estimator. The estimator takes as input the outcome of interest $Y$ (amount of product purchased), a discrete treatment $T$ (interventions given), heterogeneity features $X$ (here, customer's size) and controls $W$ (all other customer features).\n",
    "\n",
    "The LinearDRLearner also requires two auxiliary models to model the relationships $T\\sim (W, X)$ (`model_propensity`) and $Y \\sim (W, X)$(`model_regression`). These can be generic, flexible classification and regression models, respectively.  \n",
    "\n",
    "**This estimator assumes a linear relationship between the treatment effect and a transformation of the features $X$ (e.g. a polynomial basis expansion). For more generic forms of the treatment effect, see the `DRLearner` estimator.*"
   ]
  },
  {
   "cell_type": "code",
   "execution_count": 12,
   "metadata": {},
   "outputs": [
    {
     "name": "stderr",
     "output_type": "stream",
     "text": [
      "INFO:dowhy.causal_estimator:INFO: Using EconML Estimator\n",
      "WARNING:dowhy.causal_estimator:Effect modifiers are not a subset of common causes. For efficiency in estimation, EconML will consider all effect modifiers as common causes too.\n",
      "INFO:dowhy.causal_estimator:b: Revenue~discrete_T+Employee Count+IT Spend+Major Flag+SMC Flag+PC Count+Commercial Flag+Global Flag+Size | Size\n"
     ]
    },
    {
     "name": "stdout",
     "output_type": "stream",
     "text": [
      "*** Causal Estimate ***\n",
      "\n",
      "## Identified estimand\n",
      "Estimand type: nonparametric-ate\n",
      "### Estimand : 1\n",
      "Estimand name: backdoor\n",
      "Estimand expression:\n",
      "      d                                                                       \n",
      "─────────────(Expectation(Revenue|Employee Count,IT Spend,Major Flag,SMC Flag,\n",
      "d[discrete_T]                                                                 \n",
      "\n",
      "                                      \n",
      "PC Count,Commercial Flag,Global Flag))\n",
      "                                      \n",
      "Estimand assumption 1, Unconfoundedness: If U→{discrete_T} and U→Revenue then P(Revenue|discrete_T,Employee Count,IT Spend,Major Flag,SMC Flag,PC Count,Commercial Flag,Global Flag,U) = P(Revenue|discrete_T,Employee Count,IT Spend,Major Flag,SMC Flag,PC Count,Commercial Flag,Global Flag)\n",
      "### Estimand : 2\n",
      "Estimand name: iv\n",
      "No such variable found!\n",
      "\n",
      "## Realized estimand\n",
      "b: Revenue~discrete_T+Employee Count+IT Spend+Major Flag+SMC Flag+PC Count+Commercial Flag+Global Flag+Size | Size\n",
      "Target units: \n",
      "\n",
      "## Estimate\n",
      "Mean value: 7640.914144527803\n",
      "\n"
     ]
    }
   ],
   "source": [
    "test_customers = X.iloc[:1000].values\n",
    "drlearner_estimate = model.estimate_effect(identified_estimand,\n",
    "                                      method_name=\"backdoor.econml.drlearner.LinearDRLearner\",\n",
    "                                      target_units = test_customers,\n",
    "                                      treatment_value = 1,\n",
    "                                      method_params={\n",
    "                                          \"init_params\":{'model_regression': XGBRegressor(), \n",
    "                                                         'model_propensity': XGBClassifier(objective=\"multi:softmax\"),\n",
    "                                                         'random_state': 1,\n",
    "                                                        },\n",
    "                                          \"fit_params\":{}})\n",
    "print(drlearner_estimate)"
   ]
  },
  {
   "cell_type": "markdown",
   "metadata": {},
   "source": [
    "When training the model, `DoWhy` automatically calculates the average treatment effect (ATE) on a test sample. In the case above, we asked that `DoWhy` calculate the ATE for $T=1$ which corresponds to a customer getting tech support only. Let's see how this compares to the true ATE:"
   ]
  },
  {
   "cell_type": "code",
   "execution_count": 13,
   "metadata": {},
   "outputs": [
    {
     "name": "stdout",
     "output_type": "stream",
     "text": [
      "True ATE on test data:  7275.564040000001\n"
     ]
    }
   ],
   "source": [
    "true_customer_TE = TE_fn(test_customers)\n",
    "print(\"True ATE on test data: \", true_customer_TE[:, 0].mean())"
   ]
  },
  {
   "cell_type": "markdown",
   "metadata": {},
   "source": [
    "We can see that the two values are close which is a good starting point for our algorithm. In a future section, we see how the calculated heterogeneous treatment effects compare with the true ones. "
   ]
  },
  {
   "cell_type": "markdown",
   "metadata": {},
   "source": [
    "# Understand Treatment Effects with EconML\n",
    "\n",
    "We can obtain a summary of the coefficient values as well as confidence intervals by calling the `summary` function on the fitted model for each treatment."
   ]
  },
  {
   "cell_type": "code",
   "execution_count": 14,
   "metadata": {},
   "outputs": [],
   "source": [
    "econml_model = drlearner_estimate._estimator_object"
   ]
  },
  {
   "cell_type": "code",
   "execution_count": 15,
   "metadata": {},
   "outputs": [
    {
     "name": "stdout",
     "output_type": "stream",
     "text": [
      "Investment: Tech Support\n",
      "True treatment effect: 5000 + 0.02*Size\n"
     ]
    },
    {
     "data": {
      "text/html": [
       "<table class=\"simpletable\">\n",
       "<caption>Coefficient Results</caption>\n",
       "<tr>\n",
       "    <td></td>   <th>point_estimate</th> <th>stderr</th> <th>zstat</th> <th>pvalue</th> <th>ci_lower</th> <th>ci_upper</th>\n",
       "</tr>\n",
       "<tr>\n",
       "  <th>Size</th>      <td>0.02</td>       <td>0.012</td> <td>1.722</td>  <td>0.085</td>   <td>0.001</td>    <td>0.04</td>  \n",
       "</tr>\n",
       "</table>\n",
       "<table class=\"simpletable\">\n",
       "<caption>CATE Intercept Results</caption>\n",
       "<tr>\n",
       "         <td></td>        <th>point_estimate</th> <th>stderr</th>  <th>zstat</th> <th>pvalue</th> <th>ci_lower</th> <th>ci_upper</th>\n",
       "</tr>\n",
       "<tr>\n",
       "  <th>cate_intercept</th>    <td>5331.688</td>    <td>847.626</td> <td>6.29</td>    <td>0.0</td>  <td>3937.467</td> <td>6725.908</td>\n",
       "</tr>\n",
       "</table><br/><br/><sub>A linear parametric conditional average treatment effect (CATE) model was fitted:<br/>$Y = \\Theta(X)\\cdot T + g(X, W) + \\epsilon$<br/>where $T$ is the one-hot-encoding of the discrete treatment and for every outcome $i$ and treatment $j$ the CATE $\\Theta_{ij}(X)$ has the form:<br/>$\\Theta_{ij}(X) = \\phi(X)' coef_{ij} + cate\\_intercept_{ij}$<br/>where $\\phi(X)$ is the output of the `featurizer` or $X$ if `featurizer`=None. Coefficient Results table portrays the $coef_{ij}$ parameter vector for each outcome $i$ and the designated treatment $j$ passed to summary. Intercept Results table portrays the $cate\\_intercept_{ij}$ parameter.</sub>"
      ],
      "text/plain": [
       "<class 'econml.utilities.Summary'>\n",
       "\"\"\"\n",
       "                   Coefficient Results                   \n",
       "=========================================================\n",
       "     point_estimate stderr zstat pvalue ci_lower ci_upper\n",
       "---------------------------------------------------------\n",
       "Size           0.02  0.012 1.722  0.085    0.001     0.04\n",
       "                       CATE Intercept Results                       \n",
       "====================================================================\n",
       "               point_estimate  stderr zstat pvalue ci_lower ci_upper\n",
       "--------------------------------------------------------------------\n",
       "cate_intercept       5331.688 847.626  6.29    0.0 3937.467 6725.908\n",
       "--------------------------------------------------------------------\n",
       "\n",
       "<sub>A linear parametric conditional average treatment effect (CATE) model was fitted:\n",
       "$Y = \\Theta(X)\\cdot T + g(X, W) + \\epsilon$\n",
       "where $T$ is the one-hot-encoding of the discrete treatment and for every outcome $i$ and treatment $j$ the CATE $\\Theta_{ij}(X)$ has the form:\n",
       "$\\Theta_{ij}(X) = \\phi(X)' coef_{ij} + cate\\_intercept_{ij}$\n",
       "where $\\phi(X)$ is the output of the `featurizer` or $X$ if `featurizer`=None. Coefficient Results table portrays the $coef_{ij}$ parameter vector for each outcome $i$ and the designated treatment $j$ passed to summary. Intercept Results table portrays the $cate\\_intercept_{ij}$ parameter.</sub>\n",
       "\"\"\""
      ]
     },
     "metadata": {},
     "output_type": "display_data"
    },
    {
     "name": "stdout",
     "output_type": "stream",
     "text": [
      "Investment: Discount\n",
      "True treatment effect: 0 + 0.05*Size\n"
     ]
    },
    {
     "data": {
      "text/html": [
       "<table class=\"simpletable\">\n",
       "<caption>Coefficient Results</caption>\n",
       "<tr>\n",
       "    <td></td>   <th>point_estimate</th> <th>stderr</th> <th>zstat</th> <th>pvalue</th> <th>ci_lower</th> <th>ci_upper</th>\n",
       "</tr>\n",
       "<tr>\n",
       "  <th>Size</th>      <td>0.052</td>      <td>0.012</td> <td>4.364</td>   <td>0.0</td>    <td>0.032</td>    <td>0.071</td> \n",
       "</tr>\n",
       "</table>\n",
       "<table class=\"simpletable\">\n",
       "<caption>CATE Intercept Results</caption>\n",
       "<tr>\n",
       "         <td></td>        <th>point_estimate</th> <th>stderr</th>  <th>zstat</th> <th>pvalue</th> <th>ci_lower</th>  <th>ci_upper</th>\n",
       "</tr>\n",
       "<tr>\n",
       "  <th>cate_intercept</th>     <td>349.579</td>    <td>850.063</td> <td>0.411</td>  <td>0.681</td> <td>-1048.651</td> <td>1747.808</td>\n",
       "</tr>\n",
       "</table><br/><br/><sub>A linear parametric conditional average treatment effect (CATE) model was fitted:<br/>$Y = \\Theta(X)\\cdot T + g(X, W) + \\epsilon$<br/>where $T$ is the one-hot-encoding of the discrete treatment and for every outcome $i$ and treatment $j$ the CATE $\\Theta_{ij}(X)$ has the form:<br/>$\\Theta_{ij}(X) = \\phi(X)' coef_{ij} + cate\\_intercept_{ij}$<br/>where $\\phi(X)$ is the output of the `featurizer` or $X$ if `featurizer`=None. Coefficient Results table portrays the $coef_{ij}$ parameter vector for each outcome $i$ and the designated treatment $j$ passed to summary. Intercept Results table portrays the $cate\\_intercept_{ij}$ parameter.</sub>"
      ],
      "text/plain": [
       "<class 'econml.utilities.Summary'>\n",
       "\"\"\"\n",
       "                   Coefficient Results                   \n",
       "=========================================================\n",
       "     point_estimate stderr zstat pvalue ci_lower ci_upper\n",
       "---------------------------------------------------------\n",
       "Size          0.052  0.012 4.364    0.0    0.032    0.071\n",
       "                        CATE Intercept Results                       \n",
       "=====================================================================\n",
       "               point_estimate  stderr zstat pvalue  ci_lower ci_upper\n",
       "---------------------------------------------------------------------\n",
       "cate_intercept        349.579 850.063 0.411  0.681 -1048.651 1747.808\n",
       "---------------------------------------------------------------------\n",
       "\n",
       "<sub>A linear parametric conditional average treatment effect (CATE) model was fitted:\n",
       "$Y = \\Theta(X)\\cdot T + g(X, W) + \\epsilon$\n",
       "where $T$ is the one-hot-encoding of the discrete treatment and for every outcome $i$ and treatment $j$ the CATE $\\Theta_{ij}(X)$ has the form:\n",
       "$\\Theta_{ij}(X) = \\phi(X)' coef_{ij} + cate\\_intercept_{ij}$\n",
       "where $\\phi(X)$ is the output of the `featurizer` or $X$ if `featurizer`=None. Coefficient Results table portrays the $coef_{ij}$ parameter vector for each outcome $i$ and the designated treatment $j$ passed to summary. Intercept Results table portrays the $cate\\_intercept_{ij}$ parameter.</sub>\n",
       "\"\"\""
      ]
     },
     "metadata": {},
     "output_type": "display_data"
    },
    {
     "name": "stdout",
     "output_type": "stream",
     "text": [
      "Investment: Tech Support & Discount\n",
      "True treatment effect: 5000 + 0.07*Size\n"
     ]
    },
    {
     "data": {
      "text/html": [
       "<table class=\"simpletable\">\n",
       "<caption>Coefficient Results</caption>\n",
       "<tr>\n",
       "    <td></td>   <th>point_estimate</th> <th>stderr</th> <th>zstat</th> <th>pvalue</th> <th>ci_lower</th> <th>ci_upper</th>\n",
       "</tr>\n",
       "<tr>\n",
       "  <th>Size</th>      <td>0.073</td>      <td>0.012</td> <td>6.271</td>   <td>0.0</td>    <td>0.054</td>    <td>0.093</td> \n",
       "</tr>\n",
       "</table>\n",
       "<table class=\"simpletable\">\n",
       "<caption>CATE Intercept Results</caption>\n",
       "<tr>\n",
       "         <td></td>        <th>point_estimate</th> <th>stderr</th>  <th>zstat</th> <th>pvalue</th> <th>ci_lower</th> <th>ci_upper</th>\n",
       "</tr>\n",
       "<tr>\n",
       "  <th>cate_intercept</th>    <td>4910.052</td>    <td>851.766</td> <td>5.765</td>   <td>0.0</td>  <td>3509.022</td> <td>6311.081</td>\n",
       "</tr>\n",
       "</table><br/><br/><sub>A linear parametric conditional average treatment effect (CATE) model was fitted:<br/>$Y = \\Theta(X)\\cdot T + g(X, W) + \\epsilon$<br/>where $T$ is the one-hot-encoding of the discrete treatment and for every outcome $i$ and treatment $j$ the CATE $\\Theta_{ij}(X)$ has the form:<br/>$\\Theta_{ij}(X) = \\phi(X)' coef_{ij} + cate\\_intercept_{ij}$<br/>where $\\phi(X)$ is the output of the `featurizer` or $X$ if `featurizer`=None. Coefficient Results table portrays the $coef_{ij}$ parameter vector for each outcome $i$ and the designated treatment $j$ passed to summary. Intercept Results table portrays the $cate\\_intercept_{ij}$ parameter.</sub>"
      ],
      "text/plain": [
       "<class 'econml.utilities.Summary'>\n",
       "\"\"\"\n",
       "                   Coefficient Results                   \n",
       "=========================================================\n",
       "     point_estimate stderr zstat pvalue ci_lower ci_upper\n",
       "---------------------------------------------------------\n",
       "Size          0.073  0.012 6.271    0.0    0.054    0.093\n",
       "                       CATE Intercept Results                       \n",
       "====================================================================\n",
       "               point_estimate  stderr zstat pvalue ci_lower ci_upper\n",
       "--------------------------------------------------------------------\n",
       "cate_intercept       4910.052 851.766 5.765    0.0 3509.022 6311.081\n",
       "--------------------------------------------------------------------\n",
       "\n",
       "<sub>A linear parametric conditional average treatment effect (CATE) model was fitted:\n",
       "$Y = \\Theta(X)\\cdot T + g(X, W) + \\epsilon$\n",
       "where $T$ is the one-hot-encoding of the discrete treatment and for every outcome $i$ and treatment $j$ the CATE $\\Theta_{ij}(X)$ has the form:\n",
       "$\\Theta_{ij}(X) = \\phi(X)' coef_{ij} + cate\\_intercept_{ij}$\n",
       "where $\\phi(X)$ is the output of the `featurizer` or $X$ if `featurizer`=None. Coefficient Results table portrays the $coef_{ij}$ parameter vector for each outcome $i$ and the designated treatment $j$ passed to summary. Intercept Results table portrays the $cate\\_intercept_{ij}$ parameter.</sub>\n",
       "\"\"\""
      ]
     },
     "metadata": {},
     "output_type": "display_data"
    }
   ],
   "source": [
    "for i in range(econml_model._d_t[0]):\n",
    "    print(f\"Investment: {treatment_names[i]}\")\n",
    "    print(f\"True treatment effect: {true_intercepts[i]} + {true_coefs[i]}*Size\")\n",
    "    display(econml_model.summary(T=i + 1, feature_names=[\"Size\"]))"
   ]
  },
  {
   "cell_type": "markdown",
   "metadata": {},
   "source": [
    "From the summary panels, we see that the learned coefficients/intercepts are close to the true coefficients/intercepts and the p-values are small for most of these. \n",
    "\n",
    "We further use the `coef_, coef__interval` and the `intercept_, intercept__interval` methods to obtain the learned coefficient values and build confidence intervals. We compare the true and the learned coefficients through the plots below."
   ]
  },
  {
   "cell_type": "code",
   "execution_count": 16,
   "metadata": {},
   "outputs": [],
   "source": [
    "# Compare learned coefficients with true model coefficients\n",
    "# Aggregate data\n",
    "coef_indices = np.arange(econml_model._d_t[0])\n",
    "coefs = np.hstack([econml_model.coef_(T=i) for i in 1 + coef_indices])\n",
    "intercepts = np.hstack([econml_model.intercept_(T=i) for i in 1 + coef_indices])\n",
    "\n",
    "# Calculate coefficient error bars for 90% confidence interval\n",
    "coef_error = np.hstack([econml_model.coef__interval(T=i) for i in 1 + coef_indices])\n",
    "coef_error[0, :] = coefs - coef_error[0, :]\n",
    "coef_error[1, :] = coef_error[1, :] - coefs\n",
    "\n",
    "# Calculate intercept error bars for 90% confidence interval\n",
    "intercept_error = np.vstack(\n",
    "    [econml_model.intercept__interval(T=i) for i in 1 + coef_indices]\n",
    ").T\n",
    "intercept_error[0, :] = intercepts - intercept_error[0, :]\n",
    "intercept_error[1, :] = intercept_error[1, :] - intercepts"
   ]
  },
  {
   "cell_type": "code",
   "execution_count": 17,
   "metadata": {},
   "outputs": [
    {
     "data": {
      "image/png": "[encoded data removed]",
      "text/plain": [
       "<Figure size 432x360 with 2 Axes>"
      ]
     },
     "metadata": {
      "needs_background": "light"
     },
     "output_type": "display_data"
    }
   ],
   "source": [
    "# Plot coefficients\n",
    "plt.figure(figsize=(6, 5))\n",
    "ax1 = plt.subplot(2, 1, 1)\n",
    "plt.errorbar(\n",
    "    coef_indices,\n",
    "    coefs,\n",
    "    coef_error,\n",
    "    fmt=\"o\",\n",
    "    label=\"Learned values\\nand 90% confidence interval\",\n",
    ")\n",
    "plt.scatter(coef_indices, true_coefs, color=\"C1\", label=\"True values\", zorder=3)\n",
    "plt.xticks(coef_indices, treatment_names)\n",
    "plt.setp(ax1.get_xticklabels(), visible=False)\n",
    "plt.title(\"Coefficients\")\n",
    "plt.legend(loc=(1.05, 0.65))\n",
    "plt.grid()\n",
    "\n",
    "# Plot intercepts\n",
    "plt.subplot(2, 1, 2)\n",
    "plt.errorbar(coef_indices, intercepts, intercept_error, fmt=\"o\")\n",
    "plt.scatter(coef_indices, true_intercepts, color=\"C1\", zorder=3)\n",
    "plt.xticks(coef_indices, treatment_names)\n",
    "plt.title(\"Intercepts\")\n",
    "plt.grid()\n",
    "plt.show()"
   ]
  },
  {
   "cell_type": "markdown",
   "metadata": {},
   "source": [
    "# Make Policy Decisions with EconML\n",
    "\n",
    "Investments such as tech support and discounts come with an associated cost. Thus, we would like to know what incentives to give to each customer to maximize the profit from their increased engagement. This is the **treatment policy**.\n",
    "\n",
    "In this scenario, we define a cost function as follows:\n",
    "* The cost of `tech support` scales with the number of PCs a customer has. You can imagine that if the software product needs tech support to be installed on each machine, there is a cost (\\\\$100 here) per machine.\n",
    "* The cost of `discount` is a fixed \\\\$7,000. Think of this as giving the customer the first \\\\$7,000 worth of product for free.\n",
    "* The cost of `tech support` and `discount` is the sum of the cost of each of these. Note that this might not be the case in every business application: it is possible that managing multiple incentive programs can add overhead. "
   ]
  },
  {
   "cell_type": "code",
   "execution_count": 18,
   "metadata": {},
   "outputs": [],
   "source": [
    "# Define cost function\n",
    "def cost_fn(multi_data):\n",
    "    t1_cost = multi_data[[\"PC Count\"]].values * 100\n",
    "    t2_cost = np.ones((multi_data.shape[0], 1)) * 7000\n",
    "    return np.hstack([t1_cost, t2_cost, t1_cost + t2_cost])"
   ]
  },
  {
   "cell_type": "markdown",
   "metadata": {},
   "source": [
    "We use the model's `const_marginal_effect` method to find the counterfactual treatment effect for each possible treatment. We then subtract the treatment cost and choose the treatment which the highest return. That is the recommended policy."
   ]
  },
  {
   "cell_type": "code",
   "execution_count": 19,
   "metadata": {},
   "outputs": [],
   "source": [
    "# Get roi for each customer and possible treatment\n",
    "potential_roi = econml_model.const_marginal_effect(X=X.values) - cost_fn(multi_data)\n",
    "# Add a column of 0s for no treatment\n",
    "potential_roi = np.hstack([np.zeros(X.shape), potential_roi])"
   ]
  },
  {
   "cell_type": "code",
   "execution_count": 20,
   "metadata": {},
   "outputs": [],
   "source": [
    "all_treatments = np.array([\"None\"] + treatment_names)\n",
    "recommended_T = np.argmax(potential_roi, axis=1)"
   ]
  },
  {
   "cell_type": "code",
   "execution_count": 21,
   "metadata": {
    "scrolled": true
   },
   "outputs": [
    {
     "data": {
      "image/png": "[encoded data removed]",
      "text/plain": [
       "<Figure size 432x288 with 1 Axes>"
      ]
     },
     "metadata": {
      "needs_background": "light"
     },
     "output_type": "display_data"
    }
   ],
   "source": [
    "ax1 = sns.scatterplot(\n",
    "    x=X.values.flatten(),\n",
    "    y=multi_data[\"PC Count\"].values,\n",
    "    hue=all_treatments[recommended_T],\n",
    "    hue_order=all_treatments,\n",
    "    cmap=\"Dark2\",\n",
    "    s=40,\n",
    ")\n",
    "plt.legend(title=\"Investment Policy\")\n",
    "plt.setp(\n",
    "    ax1,\n",
    "    xlabel=\"Customer Size\",\n",
    "    ylabel=\"PC Count\",\n",
    "    title=\"Optimal Investment Policy by Customer\",\n",
    ")\n",
    "plt.show()"
   ]
  },
  {
   "cell_type": "markdown",
   "metadata": {},
   "source": [
    "We compare different policies: the optimal policy we learned, the current policy, and the policy under which each customer is given all incentives. We note that the optimal policy has a much higher ROI than the alternatives. "
   ]
  },
  {
   "cell_type": "code",
   "execution_count": 22,
   "metadata": {},
   "outputs": [],
   "source": [
    "roi_current = potential_roi[np.arange(X.shape[1]), T].sum()\n",
    "roi_optimal = potential_roi[np.arange(X.shape[1]), recommended_T].sum()\n",
    "roi_bothT = potential_roi[:, -1].sum()\n",
    "all_rois = np.array([roi_optimal, roi_current, roi_bothT])\n",
    "Y_baseline = (Y - econml_model.effect(X=X.values, T1=T)).sum()"
   ]
  },
  {
   "cell_type": "code",
   "execution_count": 23,
   "metadata": {},
   "outputs": [
    {
     "data": {
      "text/html": [
       "<div>\n",
       "<style scoped>\n",
       "    .dataframe tbody tr th:only-of-type {\n",
       "        vertical-align: middle;\n",
       "    }\n",
       "\n",
       "    .dataframe tbody tr th {\n",
       "        vertical-align: top;\n",
       "    }\n",
       "\n",
       "    .dataframe thead th {\n",
       "        text-align: right;\n",
       "    }\n",
       "</style>\n",
       "<table border=\"1\" class=\"dataframe\">\n",
       "  <thead>\n",
       "    <tr style=\"text-align: right;\">\n",
       "      <th></th>\n",
       "      <th>Policy</th>\n",
       "      <th>ROI ($)</th>\n",
       "      <th>ROI (% of baseline Y)</th>\n",
       "    </tr>\n",
       "  </thead>\n",
       "  <tbody>\n",
       "    <tr>\n",
       "      <th>0</th>\n",
       "      <td>Optimal</td>\n",
       "      <td>9.107841e+06</td>\n",
       "      <td>59.7</td>\n",
       "    </tr>\n",
       "    <tr>\n",
       "      <th>1</th>\n",
       "      <td>Current</td>\n",
       "      <td>6.801446e+06</td>\n",
       "      <td>44.6</td>\n",
       "    </tr>\n",
       "    <tr>\n",
       "      <th>2</th>\n",
       "      <td>All Investments</td>\n",
       "      <td>9.598890e+05</td>\n",
       "      <td>6.3</td>\n",
       "    </tr>\n",
       "  </tbody>\n",
       "</table>\n",
       "</div>"
      ],
      "text/plain": [
       "            Policy       ROI ($)  ROI (% of baseline Y)\n",
       "0          Optimal  9.107841e+06                   59.7\n",
       "1          Current  6.801446e+06                   44.6\n",
       "2  All Investments  9.598890e+05                    6.3"
      ]
     },
     "execution_count": 23,
     "metadata": {},
     "output_type": "execute_result"
    }
   ],
   "source": [
    "pd.DataFrame(\n",
    "    {\n",
    "        \"Policy\": [\"Optimal\", \"Current\", \"All Investments\"],\n",
    "        \"ROI ($)\": all_rois,\n",
    "        \"ROI (% of baseline Y)\": np.round(all_rois / Y_baseline * 100, 1),\n",
    "    }\n",
    ")"
   ]
  },
  {
   "cell_type": "markdown",
   "metadata": {},
   "source": [
    "# Test Estimate Robustness with DoWhy"
   ]
  },
  {
   "cell_type": "markdown",
   "metadata": {},
   "source": [
    "### Add Random Common Cause\n",
    "\n",
    "How robust are our estimates to adding an uncorrelated confounder? We use DoWhy to test this!"
   ]
  },
  {
   "cell_type": "code",
   "execution_count": 24,
   "metadata": {},
   "outputs": [
    {
     "name": "stderr",
     "output_type": "stream",
     "text": [
      "INFO:dowhy.causal_estimator:INFO: Using EconML Estimator\n",
      "WARNING:dowhy.causal_estimator:Effect modifiers are not a subset of common causes. For efficiency in estimation, EconML will consider all effect modifiers as common causes too.\n",
      "INFO:dowhy.causal_estimator:b: Revenue~discrete_T+Employee Count+IT Spend+Major Flag+SMC Flag+PC Count+Commercial Flag+Global Flag+w_random+Size | Size\n"
     ]
    },
    {
     "name": "stdout",
     "output_type": "stream",
     "text": [
      "Refute: Add a Random Common Cause\n",
      "Estimated effect:7640.914144527803\n",
      "New effect:7538.837383252807\n",
      "\n"
     ]
    }
   ],
   "source": [
    "res_random = model.refute_estimate(\n",
    "    identified_estimand, drlearner_estimate, method_name=\"random_common_cause\"\n",
    ")\n",
    "print(res_random)"
   ]
  },
  {
   "cell_type": "markdown",
   "metadata": {},
   "source": [
    "### Add Unobserved Common Cause\n",
    "\n",
    "How robust are our estimates to unobserved confounders? Since we assume unconfoundedness, adding an unobserved confounder might bias the estimates. We use DoWhy to show this!"
   ]
  },
  {
   "cell_type": "code",
   "execution_count": 25,
   "metadata": {},
   "outputs": [
    {
     "name": "stderr",
     "output_type": "stream",
     "text": [
      "INFO:dowhy.causal_estimator:INFO: Using EconML Estimator\n",
      "WARNING:dowhy.causal_estimator:Effect modifiers are not a subset of common causes. For efficiency in estimation, EconML will consider all effect modifiers as common causes too.\n",
      "INFO:dowhy.causal_estimator:b: Revenue~discrete_T+Employee Count+IT Spend+Major Flag+SMC Flag+PC Count+Commercial Flag+Global Flag+Size | Size\n"
     ]
    },
    {
     "name": "stdout",
     "output_type": "stream",
     "text": [
      "Refute: Add an Unobserved Common Cause\n",
      "Estimated effect:7640.914144527803\n",
      "New effect:3260.9478494402256\n",
      "\n"
     ]
    }
   ],
   "source": [
    "res_unobserved = model.refute_estimate(\n",
    "    identified_estimand, drlearner_estimate, method_name=\"add_unobserved_common_cause\",\n",
    "    confounders_effect_on_treatment=\"binary_flip\", confounders_effect_on_outcome=\"linear\",\n",
    "    effect_strength_on_treatment=0.3, effect_strength_on_outcome=0.5)\n",
    "print(res_unobserved)"
   ]
  },
  {
   "cell_type": "markdown",
   "metadata": {},
   "source": [
    "### Replace Treatment with a Random (Placebo) Variable\n",
    "\n",
    "What happens our estimates if we replace the treatment variable with noise? Ideally, the average effect would be close to $0$. We use DoWhy to investigate!"
   ]
  },
  {
   "cell_type": "code",
   "execution_count": 26,
   "metadata": {},
   "outputs": [
    {
     "name": "stderr",
     "output_type": "stream",
     "text": [
      "INFO:dowhy.causal_refuters.placebo_treatment_refuter:Refutation over 5 simulated datasets of permute treatment\n",
      "INFO:dowhy.causal_estimator:INFO: Using EconML Estimator\n",
      "WARNING:dowhy.causal_estimator:Effect modifiers are not a subset of common causes. For efficiency in estimation, EconML will consider all effect modifiers as common causes too.\n",
      "INFO:dowhy.causal_estimator:b: Revenue~placebo+Employee Count+IT Spend+Major Flag+SMC Flag+PC Count+Commercial Flag+Global Flag+Size | Size\n",
      "INFO:dowhy.causal_estimator:INFO: Using EconML Estimator\n",
      "WARNING:dowhy.causal_estimator:Effect modifiers are not a subset of common causes. For efficiency in estimation, EconML will consider all effect modifiers as common causes too.\n",
      "INFO:dowhy.causal_estimator:b: Revenue~placebo+Employee Count+IT Spend+Major Flag+SMC Flag+PC Count+Commercial Flag+Global Flag+Size | Size\n",
      "INFO:dowhy.causal_estimator:INFO: Using EconML Estimator\n",
      "WARNING:dowhy.causal_estimator:Effect modifiers are not a subset of common causes. For efficiency in estimation, EconML will consider all effect modifiers as common causes too.\n",
      "INFO:dowhy.causal_estimator:b: Revenue~placebo+Employee Count+IT Spend+Major Flag+SMC Flag+PC Count+Commercial Flag+Global Flag+Size | Size\n",
      "INFO:dowhy.causal_estimator:INFO: Using EconML Estimator\n",
      "WARNING:dowhy.causal_estimator:Effect modifiers are not a subset of common causes. For efficiency in estimation, EconML will consider all effect modifiers as common causes too.\n",
      "INFO:dowhy.causal_estimator:b: Revenue~placebo+Employee Count+IT Spend+Major Flag+SMC Flag+PC Count+Commercial Flag+Global Flag+Size | Size\n",
      "INFO:dowhy.causal_estimator:INFO: Using EconML Estimator\n",
      "WARNING:dowhy.causal_estimator:Effect modifiers are not a subset of common causes. For efficiency in estimation, EconML will consider all effect modifiers as common causes too.\n",
      "INFO:dowhy.causal_estimator:b: Revenue~placebo+Employee Count+IT Spend+Major Flag+SMC Flag+PC Count+Commercial Flag+Global Flag+Size | Size\n",
      "WARNING:dowhy.causal_refuters.placebo_treatment_refuter:We assume a Normal Distribution as the sample has less than 100 examples.\n",
      "                 Note: The underlying distribution may not be Normal. We assume that it approaches normal with the increase in sample size.\n"
     ]
    },
    {
     "name": "stdout",
     "output_type": "stream",
     "text": [
      "Refute: Use a Placebo Treatment\n",
      "Estimated effect:7640.914144527803\n",
      "New effect:-359.4992136004177\n",
      "p value:0.2609894185580862\n",
      "\n"
     ]
    }
   ],
   "source": [
    "res_placebo = model.refute_estimate(\n",
    "    identified_estimand, drlearner_estimate,\n",
    "    method_name=\"placebo_treatment_refuter\", placebo_type=\"permute\", \n",
    "    num_simulations=5\n",
    ")\n",
    "print(res_placebo)"
   ]
  },
  {
   "cell_type": "markdown",
   "metadata": {},
   "source": [
    "While the \"New effect\" is not zero, the p-value is greater than 0.05 which means that we cannot reject the null hypothesis that $0$ is under the average treatment effect distribution. Increasing `num_simulations` should produce a \"New effect\" closer to $0$. "
   ]
  },
  {
   "cell_type": "markdown",
   "metadata": {},
   "source": [
    "### Remove a Random Subset of the Data\n",
    "\n",
    "Do we recover similar estimates on subsets of the data? This speaks to the ability of our chosen estimator to generalize well. We use DoWhy to investigate this!"
   ]
  },
  {
   "cell_type": "code",
   "execution_count": 27,
   "metadata": {},
   "outputs": [
    {
     "name": "stderr",
     "output_type": "stream",
     "text": [
      "INFO:dowhy.causal_refuters.data_subset_refuter:Refutation over 0.8 simulated datasets of size 1600.0 each\n",
      "INFO:dowhy.causal_estimator:INFO: Using EconML Estimator\n",
      "WARNING:dowhy.causal_estimator:Effect modifiers are not a subset of common causes. For efficiency in estimation, EconML will consider all effect modifiers as common causes too.\n",
      "INFO:dowhy.causal_estimator:b: Revenue~discrete_T+Employee Count+IT Spend+Major Flag+SMC Flag+PC Count+Commercial Flag+Global Flag+Size | Size\n",
      "INFO:dowhy.causal_estimator:INFO: Using EconML Estimator\n",
      "WARNING:dowhy.causal_estimator:Effect modifiers are not a subset of common causes. For efficiency in estimation, EconML will consider all effect modifiers as common causes too.\n",
      "INFO:dowhy.causal_estimator:b: Revenue~discrete_T+Employee Count+IT Spend+Major Flag+SMC Flag+PC Count+Commercial Flag+Global Flag+Size | Size\n",
      "INFO:dowhy.causal_estimator:INFO: Using EconML Estimator\n",
      "WARNING:dowhy.causal_estimator:Effect modifiers are not a subset of common causes. For efficiency in estimation, EconML will consider all effect modifiers as common causes too.\n",
      "INFO:dowhy.causal_estimator:b: Revenue~discrete_T+Employee Count+IT Spend+Major Flag+SMC Flag+PC Count+Commercial Flag+Global Flag+Size | Size\n",
      "INFO:dowhy.causal_estimator:INFO: Using EconML Estimator\n",
      "WARNING:dowhy.causal_estimator:Effect modifiers are not a subset of common causes. For efficiency in estimation, EconML will consider all effect modifiers as common causes too.\n",
      "INFO:dowhy.causal_estimator:b: Revenue~discrete_T+Employee Count+IT Spend+Major Flag+SMC Flag+PC Count+Commercial Flag+Global Flag+Size | Size\n",
      "INFO:dowhy.causal_estimator:INFO: Using EconML Estimator\n",
      "WARNING:dowhy.causal_estimator:Effect modifiers are not a subset of common causes. For efficiency in estimation, EconML will consider all effect modifiers as common causes too.\n",
      "INFO:dowhy.causal_estimator:b: Revenue~discrete_T+Employee Count+IT Spend+Major Flag+SMC Flag+PC Count+Commercial Flag+Global Flag+Size | Size\n",
      "WARNING:dowhy.causal_refuters.data_subset_refuter:We assume a Normal Distribution as the sample has less than 100 examples.\n",
      "                 Note: The underlying distribution may not be Normal. We assume that it approaches normal with the increase in sample size.\n"
     ]
    },
    {
     "name": "stdout",
     "output_type": "stream",
     "text": [
      "Refute: Use a subset of data\n",
      "Estimated effect:7640.914144527803\n",
      "New effect:9998.121225975525\n",
      "p value:0.26440421436662764\n",
      "\n"
     ]
    }
   ],
   "source": [
    "# Removing a random subset of the data\n",
    "res_subset = model.refute_estimate(\n",
    "    identified_estimand, drlearner_estimate,\n",
    "    method_name=\"data_subset_refuter\", subset_fraction=0.8, \n",
    "    num_simulations=5)\n",
    "print(res_subset)"
   ]
  },
  {
   "cell_type": "markdown",
   "metadata": {},
   "source": [
    "The \"New effect\" is close to the estimated effect from the original dataset and the p-value is greater than 0.05. Thus, we cannot reject the null hypothesis that the estimated effect is under the average treatment effect distribution. "
   ]
  },
  {
   "cell_type": "markdown",
   "metadata": {},
   "source": [
    "# Conclusions\n",
    "\n",
    "In this notebook, we have demonstrated the power of using `EconML` and `DoWhy` to:\n",
    "\n",
    "* Learn the effects of multiple concurrent interventions\n",
    "* Interpret the resulting individual-level treatment effects\n",
    "* Build investment policies around the learned effects\n",
    "* Test causal assumptions and investigate the robustness of the estimates\n",
    "\n",
    "To learn more about what EconML can do for you, visit our [website](https://aka.ms/econml), our [GitHub page](https://github.com/microsoft/EconML) or our [documentation](https://econml.azurewebsites.net/). \n",
    "\n",
    "To learn more about what DoWhy can do for you, visit the [GitHub page](https://github.com/microsoft/dowhy) or [documentation](https://microsoft.github.io/dowhy/index.html)."
   ]
  }
 ],
 "metadata": {
  "kernelspec": {
   "display_name": "Python 3",
   "language": "python",
   "name": "python3"
  },
  "language_info": {
   "codemirror_mode": {
    "name": "ipython",
    "version": 3
   },
   "file_extension": ".py",
   "mimetype": "text/x-python",
   "name": "python",
   "nbconvert_exporter": "python",
   "pygments_lexer": "ipython3",
   "version": "3.7.6"
  }
 },
 "nbformat": 4,
 "nbformat_minor": 4
}
