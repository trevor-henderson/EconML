{
 "cells": [
  {
   "cell_type": "markdown",
   "metadata": {},
   "source": [
    "<img src=\"https://www.microsoft.com/en-us/research/uploads/prod/2020/05/Attribution.png\" width=\"400\">\n",
    "\n",
    "<h1 align=\"left\">Multi-investment Attribution: Distinguish the Effects of Multiple Outreach Efforts</h1>\n",
    "\n",
    "A startup that sells software would like to know whether its multiple outreach efforts were successful in attracting new customers or boosting consumption among existing customers. They would also like to distinguish the effects of several incentives on different kinds of customers. In other words, they would like to learn the **heterogeneous treatment effect** of each investment on customers' software usage. \n",
    "\n",
    "In an ideal world, the startup would run several randomized experiments where each customer would receive a random assortment of investments. However, this can be logistically prohibitive or strategically unsound: the startup might not have the resources to design such experiments or they might not want to risk losing out on big opportunities due to lack of incentives.\n",
    "\n",
    "In this customer scenario walkthrough, we show how tools from the [EconML](https://aka.ms/econml) library can use historical investment data to learn the effects of multiple investments."
   ]
  },
  {
   "cell_type": "markdown",
   "metadata": {},
   "source": [
    "### Summary\n",
    "\n",
    "1. [Background](#Background)\n",
    "2. [Data](#Data)\n",
    "3. [Get Causal Effects with EconML](#Get-Causal-Effects-with-EconML)\n",
    "4. [Understand Treatment Effects with EconML](#Understand-Treatment-Effects-with-EconML)\n",
    "5. [Make Policy Decisions with EconML](#Make-Policy-Decisions-with-EconML)\n",
    "6. [Conclusions](#Conclusions)"
   ]
  },
  {
   "cell_type": "markdown",
   "metadata": {},
   "source": [
    "# Background\n",
    "\n",
    "<img src=\"https://get.pxhere.com/photo/update-software-upgrade-laptop-computer-install-program-screen-system-repair-data-development-electronic-load-pc-process-progress-support-technical-load-1565823.jpg\" width=\"400\">\n",
    "\n",
    "In this scenario, a startup that sells software provides two types of incentives to its customers: technical support and discounts. A customer might be given one, both or none of these incentives. \n",
    "\n",
    "The startup has historical data on these two investments for 2,000 customers, as well as how much revenue these customers generated in the year after the investments were made. They would like to use this data to learn the optimal incentive policy for each existing or new customer in order to maximize the return on investment (ROI).\n",
    "\n",
    "The startup faces two challenges: 1) the dataset is biased because historically the larger customers received the most incentives and 2) the observed outcome combines effects from two different investments. Thus, they need a causal model that can accommodate multiple concurrent interventions. \n",
    "\n",
    "**Solution:** EconML’s `Doubly Robust Learner` model jointly estimates the effects of multiple discrete treatments. The model uses flexible functions of observed customer features to filter out spurious correlations in existing data and deliver the causal effect of each intervention on revenue.\n"
   ]
  },
  {
   "cell_type": "code",
   "execution_count": 1,
   "metadata": {},
   "outputs": [],
   "source": [
    "# Some imports to get us started\n",
    "# Utilities\n",
    "import os\n",
    "import urllib.request\n",
    "import numpy as np\n",
    "import pandas as pd\n",
    "\n",
    "# Generic ML imports\n",
    "from xgboost import XGBRegressor, XGBClassifier\n",
    "\n",
    "# EconML imports\n",
    "from econml.drlearner import LinearDRLearner\n",
    "\n",
    "import matplotlib.pyplot as plt\n",
    "import seaborn as sns\n",
    "\n",
    "%matplotlib inline"
   ]
  },
  {
   "cell_type": "markdown",
   "metadata": {},
   "source": [
    "# Data\n",
    "\n",
    "The data* contains ~2,000 customers and is comprised of:\n",
    "\n",
    "* Customer features: details about the industry, size, revenue, and technology profile of each customer.\n",
    "* Interventions: information about which incentive was given to a customer.\n",
    "* Outcome: the amount of product the customer bought in the year after the incentives were given.\n",
    "\n",
    "Feature Name | Type | Details \n",
    ":--- |:--- |:--- \n",
    "**Global Flag** | W | whether the customer has global offices\n",
    "**Major Flag** | W | whether the customer is a large consumer in their industry (as opposed to SMC - Small Medium Corporation - or SMB - Small Medium Business)\n",
    "**SMC Flag** | W | whether the customer is a Small Medium Corporation (SMC, as opposed to major and SMB)\n",
    "**Commercial Flag** | W | whether the customer's business is commercial (as opposed to public secor)\n",
    "**IT Spend** | W | \\\\$ spent on IT-related purchases \n",
    "**Employee Count** | W | number of employees\n",
    "**PC Count** | W | number of PCs used by the customer\n",
    "**Size** | X | customer's size given by their yearly total revenue \n",
    "**Tech Support** | T | whether the customer received tech support (binary)\n",
    "**Discount** | T | whether the customer was given a discount (binary)\n",
    "**Revenue** | Y | \\\\$ Revenue from customer given by the amount of software purchased\n",
    "\n",
    "**To protect the privacy of the startup's customers, the data used in this scenario is synthetically generated and the feature distributions don't correspond to real distributions. However, the feature names have preserved their names and meaning.*"
   ]
  },
  {
   "cell_type": "code",
   "execution_count": 2,
   "metadata": {},
   "outputs": [],
   "source": [
    "# Import the sample multi-attribution data\n",
    "file_url = \"https://msalicedatapublic.blob.core.windows.net/datasets/ROI/multi_attribution_sample.csv\"\n",
    "multi_data = pd.read_csv(file_url)"
   ]
  },
  {
   "cell_type": "code",
   "execution_count": 3,
   "metadata": {},
   "outputs": [
    {
     "data": {
      "text/html": [
       "<div>\n",
       "<style scoped>\n",
       "    .dataframe tbody tr th:only-of-type {\n",
       "        vertical-align: middle;\n",
       "    }\n",
       "\n",
       "    .dataframe tbody tr th {\n",
       "        vertical-align: top;\n",
       "    }\n",
       "\n",
       "    .dataframe thead th {\n",
       "        text-align: right;\n",
       "    }\n",
       "</style>\n",
       "<table border=\"1\" class=\"dataframe\">\n",
       "  <thead>\n",
       "    <tr style=\"text-align: right;\">\n",
       "      <th></th>\n",
       "      <th>Global Flag</th>\n",
       "      <th>Major Flag</th>\n",
       "      <th>SMC Flag</th>\n",
       "      <th>Commercial Flag</th>\n",
       "      <th>IT Spend</th>\n",
       "      <th>Employee Count</th>\n",
       "      <th>PC Count</th>\n",
       "      <th>Size</th>\n",
       "      <th>Tech Support</th>\n",
       "      <th>Discount</th>\n",
       "      <th>Revenue</th>\n",
       "    </tr>\n",
       "  </thead>\n",
       "  <tbody>\n",
       "    <tr>\n",
       "      <th>0</th>\n",
       "      <td>1</td>\n",
       "      <td>0</td>\n",
       "      <td>1</td>\n",
       "      <td>0</td>\n",
       "      <td>45537</td>\n",
       "      <td>26</td>\n",
       "      <td>26</td>\n",
       "      <td>152205</td>\n",
       "      <td>0</td>\n",
       "      <td>1</td>\n",
       "      <td>17688.36300</td>\n",
       "    </tr>\n",
       "    <tr>\n",
       "      <th>1</th>\n",
       "      <td>0</td>\n",
       "      <td>0</td>\n",
       "      <td>1</td>\n",
       "      <td>1</td>\n",
       "      <td>20842</td>\n",
       "      <td>107</td>\n",
       "      <td>70</td>\n",
       "      <td>159038</td>\n",
       "      <td>0</td>\n",
       "      <td>1</td>\n",
       "      <td>14981.43559</td>\n",
       "    </tr>\n",
       "    <tr>\n",
       "      <th>2</th>\n",
       "      <td>0</td>\n",
       "      <td>0</td>\n",
       "      <td>0</td>\n",
       "      <td>1</td>\n",
       "      <td>82171</td>\n",
       "      <td>10</td>\n",
       "      <td>7</td>\n",
       "      <td>264935</td>\n",
       "      <td>1</td>\n",
       "      <td>1</td>\n",
       "      <td>32917.13894</td>\n",
       "    </tr>\n",
       "    <tr>\n",
       "      <th>3</th>\n",
       "      <td>0</td>\n",
       "      <td>0</td>\n",
       "      <td>0</td>\n",
       "      <td>0</td>\n",
       "      <td>30288</td>\n",
       "      <td>40</td>\n",
       "      <td>39</td>\n",
       "      <td>77522</td>\n",
       "      <td>1</td>\n",
       "      <td>1</td>\n",
       "      <td>14773.76855</td>\n",
       "    </tr>\n",
       "    <tr>\n",
       "      <th>4</th>\n",
       "      <td>0</td>\n",
       "      <td>0</td>\n",
       "      <td>1</td>\n",
       "      <td>0</td>\n",
       "      <td>25930</td>\n",
       "      <td>37</td>\n",
       "      <td>43</td>\n",
       "      <td>91446</td>\n",
       "      <td>1</td>\n",
       "      <td>1</td>\n",
       "      <td>17098.69823</td>\n",
       "    </tr>\n",
       "  </tbody>\n",
       "</table>\n",
       "</div>"
      ],
      "text/plain": [
       "   Global Flag  Major Flag  SMC Flag  Commercial Flag  IT Spend  \\\n",
       "0            1           0         1                0     45537   \n",
       "1            0           0         1                1     20842   \n",
       "2            0           0         0                1     82171   \n",
       "3            0           0         0                0     30288   \n",
       "4            0           0         1                0     25930   \n",
       "\n",
       "   Employee Count  PC Count    Size  Tech Support  Discount      Revenue  \n",
       "0              26        26  152205             0         1  17688.36300  \n",
       "1             107        70  159038             0         1  14981.43559  \n",
       "2              10         7  264935             1         1  32917.13894  \n",
       "3              40        39   77522             1         1  14773.76855  \n",
       "4              37        43   91446             1         1  17098.69823  "
      ]
     },
     "execution_count": 3,
     "metadata": {},
     "output_type": "execute_result"
    }
   ],
   "source": [
    "# Data sample\n",
    "multi_data.head()"
   ]
  },
  {
   "cell_type": "code",
   "execution_count": 4,
   "metadata": {},
   "outputs": [],
   "source": [
    "# Define estimator inputs\n",
    "T_bin = multi_data[\n",
    "    [\"Tech Support\", \"Discount\"]\n",
    "]  # multiple interventions, or treatments\n",
    "Y = multi_data[\"Revenue\"]  # amount of product purchased, or outcome\n",
    "X = multi_data[[\"Size\"]]  # heterogeneity feature\n",
    "W = multi_data.drop(\n",
    "    columns=[\"Tech Support\", \"Discount\", \"Revenue\", \"Size\"]\n",
    ")  # controls"
   ]
  },
  {
   "cell_type": "markdown",
   "metadata": {},
   "source": [
    "We investigate below whether the number of investments given is correlated with the size of the customer. We note that the average customer size is larger for more incentives given. "
   ]
  },
  {
   "cell_type": "code",
   "execution_count": 5,
   "metadata": {},
   "outputs": [
    {
     "data": {
      "text/html": [
       "<div>\n",
       "<style scoped>\n",
       "    .dataframe tbody tr th:only-of-type {\n",
       "        vertical-align: middle;\n",
       "    }\n",
       "\n",
       "    .dataframe tbody tr th {\n",
       "        vertical-align: top;\n",
       "    }\n",
       "\n",
       "    .dataframe thead th {\n",
       "        text-align: right;\n",
       "    }\n",
       "</style>\n",
       "<table border=\"1\" class=\"dataframe\">\n",
       "  <thead>\n",
       "    <tr style=\"text-align: right;\">\n",
       "      <th></th>\n",
       "      <th>Tech Support</th>\n",
       "      <th>Discount</th>\n",
       "      <th>Size</th>\n",
       "    </tr>\n",
       "  </thead>\n",
       "  <tbody>\n",
       "    <tr>\n",
       "      <th>0</th>\n",
       "      <td>0</td>\n",
       "      <td>0</td>\n",
       "      <td>70943</td>\n",
       "    </tr>\n",
       "    <tr>\n",
       "      <th>1</th>\n",
       "      <td>0</td>\n",
       "      <td>1</td>\n",
       "      <td>96466</td>\n",
       "    </tr>\n",
       "    <tr>\n",
       "      <th>2</th>\n",
       "      <td>1</td>\n",
       "      <td>0</td>\n",
       "      <td>108978</td>\n",
       "    </tr>\n",
       "    <tr>\n",
       "      <th>3</th>\n",
       "      <td>1</td>\n",
       "      <td>1</td>\n",
       "      <td>171466</td>\n",
       "    </tr>\n",
       "  </tbody>\n",
       "</table>\n",
       "</div>"
      ],
      "text/plain": [
       "   Tech Support  Discount    Size\n",
       "0             0         0   70943\n",
       "1             0         1   96466\n",
       "2             1         0  108978\n",
       "3             1         1  171466"
      ]
     },
     "execution_count": 5,
     "metadata": {},
     "output_type": "execute_result"
    }
   ],
   "source": [
    "# Average customer size per incentive combination\n",
    "multi_data[[\"Size\", \"Tech Support\", \"Discount\"]].groupby(\n",
    "    by=[\"Tech Support\", \"Discount\"], as_index=False\n",
    ").mean().astype(int)"
   ]
  },
  {
   "cell_type": "markdown",
   "metadata": {},
   "source": [
    "The data was generated using the following underlying treatment effect function:\n",
    "\n",
    "$$\n",
    "\\text{treatment_effect(Size)} = (5,000 + 2\\% \\cdot \\text{Size}) \\cdot I_\\text{Tech Support} + (5\\% \\cdot \\text{Size}) \\cdot I_\\text{Discount}\n",
    "$$\n",
    "\n",
    "Therefore, the treatment effect depends on the customer's size as follows: tech support provides an consumption boost of \\$5,000 + 2\\% Size and a discount provides an consumption boost of 5\\% Size.**This is the relationship we seek to learn from the data.**"
   ]
  },
  {
   "cell_type": "code",
   "execution_count": 6,
   "metadata": {},
   "outputs": [],
   "source": [
    "# Define underlying treatment effect function\n",
    "TE_fn = lambda X: np.hstack([5000 + 2 / 100 * X, 5 / 100 * X])\n",
    "true_TE = TE_fn(X)\n",
    "\n",
    "# Define true coefficients for the three treatments\n",
    "# The third coefficient is just the sum of the first two since we assume an additive effect\n",
    "true_coefs = [2 / 100, 5 / 100, 7 / 100]\n",
    "true_intercepts = [5000, 0, 5000]\n",
    "treatment_names = [\"Tech Support\", \"Discount\", \"Tech Support & Discount\"]"
   ]
  },
  {
   "cell_type": "markdown",
   "metadata": {},
   "source": [
    "# Get Causal Effects with EconML"
   ]
  },
  {
   "cell_type": "markdown",
   "metadata": {},
   "source": [
    "To get causal effects, we use EconML's `LinearDRLearner`* estimator. This estimator requires a set of discrete treatments $T$ that corresponds to different types of interventions. Thus, we first map the binary interventions tech support and discount into one categorical variable:\n",
    "\n",
    "Tech support| Discount| Treatment encoding| Details\n",
    ":--- |:--- |:--- |:---\n",
    "0 | 0 | 0 | no incentive\n",
    "1 | 0 | 1 | tech support only\n",
    "0 | 1 | 2 | discount only\n",
    "1 | 1 | 3 | both incentives\n",
    "\n",
    "The estimator takes as input the outcome of interest $Y$ (amount of product purchased), a discrete treatment $T$ (interventions given), heterogeneity features $X$ (here, customer's size) and controls $W$ (all other customer features).\n",
    "\n",
    "\n",
    "The LinearDRLearner also requires two auxiliary models to model the relationships $T\\sim (W, X)$ (`model_propensity`) and $Y \\sim (W, X)$(`model_regression`). These can be generic, flexible classification and regression models, respectively.  \n",
    "\n",
    "\n",
    "**This estimator assumes a linear relationship between the treatment effect and a transformation of the features $X$ (e.g. a polynomial basis expansion). For more generic forms of the treatment effect, see the `DRLearner` estimator.*"
   ]
  },
  {
   "cell_type": "code",
   "execution_count": 7,
   "metadata": {},
   "outputs": [],
   "source": [
    "# Transform T to one-dimensional array with consecutive integer encoding\n",
    "def treat_map(t):\n",
    "    return np.dot(t, 2 ** np.arange(t.shape[0]))\n",
    "\n",
    "\n",
    "T = np.apply_along_axis(treat_map, 1, T_bin).astype(int)"
   ]
  },
  {
   "cell_type": "code",
   "execution_count": 8,
   "metadata": {},
   "outputs": [
    {
     "data": {
      "text/plain": [
       "<econml.drlearner.LinearDRLearner at 0x221d9532108>"
      ]
     },
     "execution_count": 8,
     "metadata": {},
     "output_type": "execute_result"
    }
   ],
   "source": [
    "# Train EconML model with generic helper models\n",
    "model = LinearDRLearner(\n",
    "    model_regression=XGBRegressor(),\n",
    "    model_propensity=XGBClassifier(objective=\"multi:softmax\"),\n",
    "    random_state=1,\n",
    ")\n",
    "# Specify final stage inference type and fit model\n",
    "model.fit(Y=Y, T=T, X=X, W=W, inference=\"statsmodels\")"
   ]
  },
  {
   "cell_type": "markdown",
   "metadata": {},
   "source": [
    "# Understand Treatment Effects with EconML\n",
    "\n",
    "We can obtain a summary of the coefficient values as well as confidence intervals by calling the `summary` function on the fitted model for each treatment."
   ]
  },
  {
   "cell_type": "code",
   "execution_count": 9,
   "metadata": {},
   "outputs": [
    {
     "name": "stdout",
     "output_type": "stream",
     "text": [
      "Investment: Tech Support\n",
      "True treatment effect: 5000 + 0.02*Size\n"
     ]
    },
    {
     "data": {
      "text/html": [
       "<table class=\"simpletable\">\n",
       "<caption>Coefficient Results</caption>\n",
       "<tr>\n",
       "    <td></td>   <th>point_estimate</th> <th>stderr</th> <th>zstat</th> <th>pvalue</th> <th>ci_lower</th> <th>ci_upper</th>\n",
       "</tr>\n",
       "<tr>\n",
       "  <th>Size</th>      <td>0.021</td>      <td>0.012</td> <td>1.749</td>  <td>0.08</td>    <td>0.001</td>    <td>0.04</td>  \n",
       "</tr>\n",
       "</table>\n",
       "<table class=\"simpletable\">\n",
       "<caption>CATE Intercept Results</caption>\n",
       "<tr>\n",
       "         <td></td>        <th>point_estimate</th> <th>stderr</th>  <th>zstat</th> <th>pvalue</th> <th>ci_lower</th> <th>ci_upper</th>\n",
       "</tr>\n",
       "<tr>\n",
       "  <th>cate_intercept</th>     <td>5326.61</td>    <td>845.551</td>  <td>6.3</td>    <td>0.0</td>  <td>3935.802</td> <td>6717.419</td>\n",
       "</tr>\n",
       "</table><br/><br/><sub>A linear parametric conditional average treatment effect (CATE) model was fitted:<br/>$Y = \\Theta(X)\\cdot T + g(X, W) + \\epsilon$<br/>where $T$ is the one-hot-encoding of the discrete treatment and for every outcome $i$ and treatment $j$ the CATE $\\Theta_{ij}(X)$ has the form:<br/>$\\Theta_{ij}(X) = \\phi(X)' coef_{ij} + cate\\_intercept_{ij}$<br/>where $\\phi(X)$ is the output of the `featurizer` or $X$ if `featurizer`=None. Coefficient Results table portrays the $coef_{ij}$ parameter vector for each outcome $i$ and the designated treatment $j$ passed to summary. Intercept Results table portrays the $cate\\_intercept_{ij}$ parameter.</sub>"
      ],
      "text/plain": [
       "<class 'econml.utilities.Summary'>\n",
       "\"\"\"\n",
       "                   Coefficient Results                   \n",
       "=========================================================\n",
       "     point_estimate stderr zstat pvalue ci_lower ci_upper\n",
       "---------------------------------------------------------\n",
       "Size          0.021  0.012 1.749   0.08    0.001     0.04\n",
       "                       CATE Intercept Results                       \n",
       "====================================================================\n",
       "               point_estimate  stderr zstat pvalue ci_lower ci_upper\n",
       "--------------------------------------------------------------------\n",
       "cate_intercept        5326.61 845.551   6.3    0.0 3935.802 6717.419\n",
       "--------------------------------------------------------------------\n",
       "\n",
       "<sub>A linear parametric conditional average treatment effect (CATE) model was fitted:\n",
       "$Y = \\Theta(X)\\cdot T + g(X, W) + \\epsilon$\n",
       "where $T$ is the one-hot-encoding of the discrete treatment and for every outcome $i$ and treatment $j$ the CATE $\\Theta_{ij}(X)$ has the form:\n",
       "$\\Theta_{ij}(X) = \\phi(X)' coef_{ij} + cate\\_intercept_{ij}$\n",
       "where $\\phi(X)$ is the output of the `featurizer` or $X$ if `featurizer`=None. Coefficient Results table portrays the $coef_{ij}$ parameter vector for each outcome $i$ and the designated treatment $j$ passed to summary. Intercept Results table portrays the $cate\\_intercept_{ij}$ parameter.</sub>\n",
       "\"\"\""
      ]
     },
     "metadata": {},
     "output_type": "display_data"
    },
    {
     "name": "stdout",
     "output_type": "stream",
     "text": [
      "Investment: Discount\n",
      "True treatment effect: 0 + 0.05*Size\n"
     ]
    },
    {
     "data": {
      "text/html": [
       "<table class=\"simpletable\">\n",
       "<caption>Coefficient Results</caption>\n",
       "<tr>\n",
       "    <td></td>   <th>point_estimate</th> <th>stderr</th> <th>zstat</th> <th>pvalue</th> <th>ci_lower</th> <th>ci_upper</th>\n",
       "</tr>\n",
       "<tr>\n",
       "  <th>Size</th>      <td>0.052</td>      <td>0.012</td> <td>4.371</td>   <td>0.0</td>    <td>0.032</td>    <td>0.071</td> \n",
       "</tr>\n",
       "</table>\n",
       "<table class=\"simpletable\">\n",
       "<caption>CATE Intercept Results</caption>\n",
       "<tr>\n",
       "         <td></td>        <th>point_estimate</th> <th>stderr</th>  <th>zstat</th> <th>pvalue</th> <th>ci_lower</th>  <th>ci_upper</th>\n",
       "</tr>\n",
       "<tr>\n",
       "  <th>cate_intercept</th>     <td>358.698</td>    <td>848.771</td> <td>0.423</td>  <td>0.673</td> <td>-1037.406</td> <td>1754.802</td>\n",
       "</tr>\n",
       "</table><br/><br/><sub>A linear parametric conditional average treatment effect (CATE) model was fitted:<br/>$Y = \\Theta(X)\\cdot T + g(X, W) + \\epsilon$<br/>where $T$ is the one-hot-encoding of the discrete treatment and for every outcome $i$ and treatment $j$ the CATE $\\Theta_{ij}(X)$ has the form:<br/>$\\Theta_{ij}(X) = \\phi(X)' coef_{ij} + cate\\_intercept_{ij}$<br/>where $\\phi(X)$ is the output of the `featurizer` or $X$ if `featurizer`=None. Coefficient Results table portrays the $coef_{ij}$ parameter vector for each outcome $i$ and the designated treatment $j$ passed to summary. Intercept Results table portrays the $cate\\_intercept_{ij}$ parameter.</sub>"
      ],
      "text/plain": [
       "<class 'econml.utilities.Summary'>\n",
       "\"\"\"\n",
       "                   Coefficient Results                   \n",
       "=========================================================\n",
       "     point_estimate stderr zstat pvalue ci_lower ci_upper\n",
       "---------------------------------------------------------\n",
       "Size          0.052  0.012 4.371    0.0    0.032    0.071\n",
       "                        CATE Intercept Results                       \n",
       "=====================================================================\n",
       "               point_estimate  stderr zstat pvalue  ci_lower ci_upper\n",
       "---------------------------------------------------------------------\n",
       "cate_intercept        358.698 848.771 0.423  0.673 -1037.406 1754.802\n",
       "---------------------------------------------------------------------\n",
       "\n",
       "<sub>A linear parametric conditional average treatment effect (CATE) model was fitted:\n",
       "$Y = \\Theta(X)\\cdot T + g(X, W) + \\epsilon$\n",
       "where $T$ is the one-hot-encoding of the discrete treatment and for every outcome $i$ and treatment $j$ the CATE $\\Theta_{ij}(X)$ has the form:\n",
       "$\\Theta_{ij}(X) = \\phi(X)' coef_{ij} + cate\\_intercept_{ij}$\n",
       "where $\\phi(X)$ is the output of the `featurizer` or $X$ if `featurizer`=None. Coefficient Results table portrays the $coef_{ij}$ parameter vector for each outcome $i$ and the designated treatment $j$ passed to summary. Intercept Results table portrays the $cate\\_intercept_{ij}$ parameter.</sub>\n",
       "\"\"\""
      ]
     },
     "metadata": {},
     "output_type": "display_data"
    },
    {
     "name": "stdout",
     "output_type": "stream",
     "text": [
      "Investment: Tech Support & Discount\n",
      "True treatment effect: 5000 + 0.07*Size\n"
     ]
    },
    {
     "data": {
      "text/html": [
       "<table class=\"simpletable\">\n",
       "<caption>Coefficient Results</caption>\n",
       "<tr>\n",
       "    <td></td>   <th>point_estimate</th> <th>stderr</th> <th>zstat</th> <th>pvalue</th> <th>ci_lower</th> <th>ci_upper</th>\n",
       "</tr>\n",
       "<tr>\n",
       "  <th>Size</th>      <td>0.074</td>      <td>0.012</td> <td>6.292</td>   <td>0.0</td>    <td>0.054</td>    <td>0.093</td> \n",
       "</tr>\n",
       "</table>\n",
       "<table class=\"simpletable\">\n",
       "<caption>CATE Intercept Results</caption>\n",
       "<tr>\n",
       "         <td></td>        <th>point_estimate</th> <th>stderr</th> <th>zstat</th> <th>pvalue</th> <th>ci_lower</th> <th>ci_upper</th>\n",
       "</tr>\n",
       "<tr>\n",
       "  <th>cate_intercept</th>    <td>4899.208</td>    <td>851.54</td> <td>5.753</td>   <td>0.0</td>  <td>3498.549</td> <td>6299.867</td>\n",
       "</tr>\n",
       "</table><br/><br/><sub>A linear parametric conditional average treatment effect (CATE) model was fitted:<br/>$Y = \\Theta(X)\\cdot T + g(X, W) + \\epsilon$<br/>where $T$ is the one-hot-encoding of the discrete treatment and for every outcome $i$ and treatment $j$ the CATE $\\Theta_{ij}(X)$ has the form:<br/>$\\Theta_{ij}(X) = \\phi(X)' coef_{ij} + cate\\_intercept_{ij}$<br/>where $\\phi(X)$ is the output of the `featurizer` or $X$ if `featurizer`=None. Coefficient Results table portrays the $coef_{ij}$ parameter vector for each outcome $i$ and the designated treatment $j$ passed to summary. Intercept Results table portrays the $cate\\_intercept_{ij}$ parameter.</sub>"
      ],
      "text/plain": [
       "<class 'econml.utilities.Summary'>\n",
       "\"\"\"\n",
       "                   Coefficient Results                   \n",
       "=========================================================\n",
       "     point_estimate stderr zstat pvalue ci_lower ci_upper\n",
       "---------------------------------------------------------\n",
       "Size          0.074  0.012 6.292    0.0    0.054    0.093\n",
       "                       CATE Intercept Results                      \n",
       "===================================================================\n",
       "               point_estimate stderr zstat pvalue ci_lower ci_upper\n",
       "-------------------------------------------------------------------\n",
       "cate_intercept       4899.208 851.54 5.753    0.0 3498.549 6299.867\n",
       "-------------------------------------------------------------------\n",
       "\n",
       "<sub>A linear parametric conditional average treatment effect (CATE) model was fitted:\n",
       "$Y = \\Theta(X)\\cdot T + g(X, W) + \\epsilon$\n",
       "where $T$ is the one-hot-encoding of the discrete treatment and for every outcome $i$ and treatment $j$ the CATE $\\Theta_{ij}(X)$ has the form:\n",
       "$\\Theta_{ij}(X) = \\phi(X)' coef_{ij} + cate\\_intercept_{ij}$\n",
       "where $\\phi(X)$ is the output of the `featurizer` or $X$ if `featurizer`=None. Coefficient Results table portrays the $coef_{ij}$ parameter vector for each outcome $i$ and the designated treatment $j$ passed to summary. Intercept Results table portrays the $cate\\_intercept_{ij}$ parameter.</sub>\n",
       "\"\"\""
      ]
     },
     "metadata": {},
     "output_type": "display_data"
    }
   ],
   "source": [
    "for i in range(model._d_t[0]):\n",
    "    print(f\"Investment: {treatment_names[i]}\")\n",
    "    print(f\"True treatment effect: {true_intercepts[i]} + {true_coefs[i]}*Size\")\n",
    "    display(model.summary(T=i + 1))"
   ]
  },
  {
   "cell_type": "markdown",
   "metadata": {},
   "source": [
    "From the summary panels, we see that the learned coefficients/intercepts are close to the true coefficients/intercepts and the p-values are small for most of these. \n",
    "\n",
    "We further use the `coef_, coef__interval` and the `intercept_, intercept__interval` methods to obtain the learned coefficient values and build confidence intervals. We compare the true and the learned coefficients through the plots below."
   ]
  },
  {
   "cell_type": "code",
   "execution_count": 10,
   "metadata": {},
   "outputs": [],
   "source": [
    "# Compare learned coefficients with true model coefficients\n",
    "# Aggregate data\n",
    "coef_indices = np.arange(model._d_t[0])\n",
    "coefs = np.hstack([model.coef_(T=i) for i in 1 + coef_indices])\n",
    "intercepts = np.hstack([model.intercept_(T=i) for i in 1 + coef_indices])\n",
    "\n",
    "# Calculate coefficient error bars for 90% confidence interval\n",
    "coef_error = np.hstack([model.coef__interval(T=i) for i in 1 + coef_indices])\n",
    "coef_error[0, :] = coefs - coef_error[0, :]\n",
    "coef_error[1, :] = coef_error[1, :] - coefs\n",
    "\n",
    "# Calculate intercept error bars for 90% confidence interval\n",
    "intercept_error = np.vstack(\n",
    "    [model.intercept__interval(T=i) for i in 1 + coef_indices]\n",
    ").T\n",
    "intercept_error[0, :] = intercepts - intercept_error[0, :]\n",
    "intercept_error[1, :] = intercept_error[1, :] - intercepts"
   ]
  },
  {
   "cell_type": "code",
   "execution_count": 11,
   "metadata": {},
   "outputs": [
    {
     "data": {
      "image/png": "[encoded data removed]",
      "text/plain": [
       "<Figure size 432x360 with 2 Axes>"
      ]
     },
     "metadata": {
      "needs_background": "light"
     },
     "output_type": "display_data"
    }
   ],
   "source": [
    "# Plot coefficients\n",
    "plt.figure(figsize=(6, 5))\n",
    "ax1 = plt.subplot(2, 1, 1)\n",
    "plt.errorbar(\n",
    "    coef_indices,\n",
    "    coefs,\n",
    "    coef_error,\n",
    "    fmt=\"o\",\n",
    "    label=\"Learned values\\nand 90% confidence interval\",\n",
    ")\n",
    "plt.scatter(coef_indices, true_coefs, color=\"C1\", label=\"True values\", zorder=3)\n",
    "plt.xticks(coef_indices, treatment_names)\n",
    "plt.setp(ax1.get_xticklabels(), visible=False)\n",
    "plt.title(\"Coefficients\")\n",
    "plt.legend(loc=(1.05, 0.65))\n",
    "plt.grid()\n",
    "\n",
    "# Plot intercepts\n",
    "plt.subplot(2, 1, 2)\n",
    "plt.errorbar(coef_indices, intercepts, intercept_error, fmt=\"o\")\n",
    "plt.scatter(coef_indices, true_intercepts, color=\"C1\", zorder=3)\n",
    "plt.xticks(coef_indices, treatment_names)\n",
    "plt.title(\"Intercepts\")\n",
    "plt.grid()\n",
    "plt.show()"
   ]
  },
  {
   "cell_type": "markdown",
   "metadata": {},
   "source": [
    "# Make Policy Decisions with EconML\n",
    "\n",
    "Investments such as tech support and discounts come with an associated cost. Thus, we would like to know what incentives to give to each customer to maximize the profit from their increased engagement. This is the **treatment policy**.\n",
    "\n",
    "In this scenario, we define a cost function as follows:\n",
    "* The cost of `tech support` scales with the number of PCs a customer has. You can imagine that if the software product needs tech support to be installed on each machine, there is a cost (\\\\$100 here) per machine.\n",
    "* The cost of `discount` is a fixed \\\\$7,000. Think of this as giving the customer the first \\\\$7,000 worth of product for free.\n",
    "* The cost of `tech support` and `discount` is the sum of the cost of each of these. Note that this might not be the case in every business application: it is possible that managing multiple incentive programs can add overhead. "
   ]
  },
  {
   "cell_type": "code",
   "execution_count": 12,
   "metadata": {},
   "outputs": [],
   "source": [
    "# Define cost function\n",
    "def cost_fn(multi_data):\n",
    "    t1_cost = multi_data[[\"PC Count\"]].values * 100\n",
    "    t2_cost = np.ones((multi_data.shape[0], 1)) * 7000\n",
    "    return np.hstack([t1_cost, t2_cost, t1_cost + t2_cost])"
   ]
  },
  {
   "cell_type": "markdown",
   "metadata": {},
   "source": [
    "We use the model's `const_marginal_effect` method to find the counterfactual treatment effect for each possible treatment. We then subtract the treatment cost and choose the treatment which the highest return. That is the recommended policy."
   ]
  },
  {
   "cell_type": "code",
   "execution_count": 13,
   "metadata": {},
   "outputs": [],
   "source": [
    "# Get roi for each customer and possible treatment\n",
    "potential_roi = model.const_marginal_effect(X=X.values) - cost_fn(multi_data)\n",
    "# Add a column of 0s for no treatment\n",
    "potential_roi = np.hstack([np.zeros(X.shape), potential_roi])"
   ]
  },
  {
   "cell_type": "code",
   "execution_count": 14,
   "metadata": {},
   "outputs": [],
   "source": [
    "all_treatments = np.array([\"None\"] + treatment_names)\n",
    "recommended_T = np.argmax(potential_roi, axis=1)"
   ]
  },
  {
   "cell_type": "code",
   "execution_count": 15,
   "metadata": {
    "scrolled": true
   },
   "outputs": [
    {
     "data": {
      "image/png": "[encoded data removed]",
      "text/plain": [
       "<Figure size 432x288 with 1 Axes>"
      ]
     },
     "metadata": {
      "needs_background": "light"
     },
     "output_type": "display_data"
    }
   ],
   "source": [
    "ax1 = sns.scatterplot(\n",
    "    x=X.values.flatten(),\n",
    "    y=multi_data[\"PC Count\"].values,\n",
    "    hue=all_treatments[recommended_T],\n",
    "    hue_order=all_treatments,\n",
    "    cmap=\"Dark2\",\n",
    "    s=40,\n",
    ")\n",
    "plt.legend(title=\"Investment Policy\")\n",
    "plt.setp(\n",
    "    ax1,\n",
    "    xlabel=\"Customer Size\",\n",
    "    ylabel=\"PC Count\",\n",
    "    title=\"Optimal Investment Policy by Customer\",\n",
    ")\n",
    "plt.show()"
   ]
  },
  {
   "cell_type": "markdown",
   "metadata": {},
   "source": [
    "We compare different policies: the optimal policy we learned, the current policy, and the policy under which each customer is given all incentives. We note that the optimal policy has a much higher ROI than the alternatives. "
   ]
  },
  {
   "cell_type": "code",
   "execution_count": 16,
   "metadata": {},
   "outputs": [],
   "source": [
    "roi_current = potential_roi[np.arange(X.shape[1]), T].sum()\n",
    "roi_optimal = potential_roi[np.arange(X.shape[1]), recommended_T].sum()\n",
    "roi_bothT = potential_roi[:, -1].sum()\n",
    "all_rois = np.array([roi_optimal, roi_current, roi_bothT])\n",
    "Y_baseline = (Y - model.effect(X=X.values, T1=T)).sum()"
   ]
  },
  {
   "cell_type": "code",
   "execution_count": 17,
   "metadata": {},
   "outputs": [
    {
     "data": {
      "text/html": [
       "<div>\n",
       "<style scoped>\n",
       "    .dataframe tbody tr th:only-of-type {\n",
       "        vertical-align: middle;\n",
       "    }\n",
       "\n",
       "    .dataframe tbody tr th {\n",
       "        vertical-align: top;\n",
       "    }\n",
       "\n",
       "    .dataframe thead th {\n",
       "        text-align: right;\n",
       "    }\n",
       "</style>\n",
       "<table border=\"1\" class=\"dataframe\">\n",
       "  <thead>\n",
       "    <tr style=\"text-align: right;\">\n",
       "      <th></th>\n",
       "      <th>Policy</th>\n",
       "      <th>ROI ($)</th>\n",
       "      <th>ROI (% of baseline Y)</th>\n",
       "    </tr>\n",
       "  </thead>\n",
       "  <tbody>\n",
       "    <tr>\n",
       "      <th>0</th>\n",
       "      <td>Optimal</td>\n",
       "      <td>9.145040e+06</td>\n",
       "      <td>60.1</td>\n",
       "    </tr>\n",
       "    <tr>\n",
       "      <th>1</th>\n",
       "      <td>Current</td>\n",
       "      <td>6.825459e+06</td>\n",
       "      <td>44.8</td>\n",
       "    </tr>\n",
       "    <tr>\n",
       "      <th>2</th>\n",
       "      <td>All Investments</td>\n",
       "      <td>9.683797e+05</td>\n",
       "      <td>6.4</td>\n",
       "    </tr>\n",
       "  </tbody>\n",
       "</table>\n",
       "</div>"
      ],
      "text/plain": [
       "            Policy       ROI ($)  ROI (% of baseline Y)\n",
       "0          Optimal  9.145040e+06                   60.1\n",
       "1          Current  6.825459e+06                   44.8\n",
       "2  All Investments  9.683797e+05                    6.4"
      ]
     },
     "execution_count": 17,
     "metadata": {},
     "output_type": "execute_result"
    }
   ],
   "source": [
    "pd.DataFrame(\n",
    "    {\n",
    "        \"Policy\": [\"Optimal\", \"Current\", \"All Investments\"],\n",
    "        \"ROI ($)\": all_rois,\n",
    "        \"ROI (% of baseline Y)\": np.round(all_rois / Y_baseline * 100, 1),\n",
    "    }\n",
    ")"
   ]
  },
  {
   "cell_type": "markdown",
   "metadata": {},
   "source": [
    "# Conclusions\n",
    "\n",
    "In this notebook, we have demonstrated the power of using EconML to:\n",
    "\n",
    "* Learn the effects of multiple concurrent interventions\n",
    "* Interpret the resulting individual-level treatment effects\n",
    "* Build investment policies around the learned effects\n",
    "\n",
    "To learn more about what EconML can do for you, visit our [website](https://aka.ms/econml), our [GitHub page](https://github.com/microsoft/EconML) or our [documentation](https://econml.azurewebsites.net/). "
   ]
  }
 ],
 "metadata": {
  "kernelspec": {
   "display_name": "Python 3",
   "language": "python",
   "name": "python3"
  },
  "language_info": {
   "codemirror_mode": {
    "name": "ipython",
    "version": 3
   },
   "file_extension": ".py",
   "mimetype": "text/x-python",
   "name": "python",
   "nbconvert_exporter": "python",
   "pygments_lexer": "ipython3",
   "version": "3.7.6"
  }
 },
 "nbformat": 4,
 "nbformat_minor": 4
}
